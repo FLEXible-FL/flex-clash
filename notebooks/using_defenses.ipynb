{
 "cells": [
  {
   "attachments": {},
   "cell_type": "markdown",
   "metadata": {},
   "source": [
    "# FLEX-clash: how to use the built-in defenses\n",
    "\n",
    "In this notebook, we will show how to use the built-in defenses of the FLEX-clash library. This defenses are implemented as aggregation functions which allows minimal changes in our FLEX experiments."
   ]
  },
  {
   "attachments": {},
   "cell_type": "markdown",
   "metadata": {},
   "source": [
    "### Setting up the experiment\n",
    "\n",
    "Before defending ourselves, we need to set up the experiment and implement an attack. We will train a model in the `federated_mnist` dataset and then attack it using the `@model_poisoned` from the `FLEX-clash` library. For more information on this attack, please refer to the `poison_models` notebook.\n"
   ]
  },
  {
   "cell_type": "code",
   "execution_count": 7,
   "metadata": {},
   "outputs": [
    {
     "name": "stderr",
     "output_type": "stream",
     "text": [
      "\u001b[36m[sultan]: md5 -q ./emnist-digits.mat;\u001b[0m\n",
      "\u001b[01;31m[sultan]: Unable to run 'md5 -q ./emnist-digits.mat;'\u001b[0m\n",
      "\u001b[01;31m[sultan]: --{ TRACEBACK }----------------------------------------------------------------------------------------------------\u001b[0m\n",
      "\u001b[01;31m[sultan]: | NoneType: None\u001b[0m\n",
      "\u001b[01;31m[sultan]: | \u001b[0m\n",
      "\u001b[01;31m[sultan]: -------------------------------------------------------------------------------------------------------------------\u001b[0m\n",
      "\u001b[01;31m[sultan]: --{ STDERR }-------------------------------------------------------------------------------------------------------\u001b[0m\n",
      "\u001b[01;31m[sultan]: | /bin/sh: 1: md5: not found\u001b[0m\n",
      "\u001b[01;31m[sultan]: -------------------------------------------------------------------------------------------------------------------\u001b[0m\n",
      "\u001b[33m[sultan]: The following are additional information that can be used to debug this exception.\u001b[0m\n",
      "\u001b[33m[sultan]: The following is the context used to run:\u001b[0m\n",
      "\u001b[33m[sultan]: \t - cwd: None\u001b[0m\n",
      "\u001b[33m[sultan]: \t - sudo: False\u001b[0m\n",
      "\u001b[33m[sultan]: \t - user: mariogmarq\u001b[0m\n",
      "\u001b[33m[sultan]: \t - hostname: None\u001b[0m\n",
      "\u001b[33m[sultan]: \t - env: None\u001b[0m\n",
      "\u001b[33m[sultan]: \t - logging: True\u001b[0m\n",
      "\u001b[33m[sultan]: \t - executable: None\u001b[0m\n",
      "\u001b[33m[sultan]: \t - ssh_config: \u001b[0m\n",
      "\u001b[33m[sultan]: \t - src: None\u001b[0m\n",
      "\u001b[01;31m[sultan]: Unable to run 'md5 -q ./emnist-digits.mat;'\u001b[0m\n",
      "\u001b[01;31m[sultan]: --{ TRACEBACK }----------------------------------------------------------------------------------------------------\u001b[0m\n",
      "\u001b[01;31m[sultan]: | Traceback (most recent call last):\u001b[0m\n",
      "\u001b[01;31m[sultan]: |   File \"/home/mariogmarq/miniconda3/lib/python3.10/site-packages/sultan/api.py\", line 212, in run\u001b[0m\n",
      "\u001b[01;31m[sultan]: |     result = Result(process, commands, self._context, streaming, halt_on_nonzero=halt_on_nonzero)\u001b[0m\n",
      "\u001b[01;31m[sultan]: |   File \"/home/mariogmarq/miniconda3/lib/python3.10/site-packages/sultan/result.py\", line 59, in __init__\u001b[0m\n",
      "\u001b[01;31m[sultan]: |     self.dump_exception()\u001b[0m\n",
      "\u001b[01;31m[sultan]: |   File \"/home/mariogmarq/miniconda3/lib/python3.10/site-packages/sultan/result.py\", line 114, in dump_exception\u001b[0m\n",
      "\u001b[01;31m[sultan]: |     raise self._exception\u001b[0m\n",
      "\u001b[01;31m[sultan]: |   File \"/home/mariogmarq/miniconda3/lib/python3.10/site-packages/sultan/result.py\", line 95, in dump_exception\u001b[0m\n",
      "\u001b[01;31m[sultan]: |     raise subprocess.CalledProcessError(self.rc, ''.join(self._commands), self.stderr)\u001b[0m\n",
      "\u001b[01;31m[sultan]: | subprocess.CalledProcessError: Command 'md5 -q ./emnist-digits.mat;' returned non-zero exit status 127.\u001b[0m\n",
      "\u001b[01;31m[sultan]: | \u001b[0m\n",
      "\u001b[01;31m[sultan]: -------------------------------------------------------------------------------------------------------------------\u001b[0m\n",
      "\u001b[33m[sultan]: The following are additional information that can be used to debug this exception.\u001b[0m\n",
      "\u001b[33m[sultan]: The following is the context used to run:\u001b[0m\n",
      "\u001b[33m[sultan]: \t - cwd: None\u001b[0m\n",
      "\u001b[33m[sultan]: \t - sudo: False\u001b[0m\n",
      "\u001b[33m[sultan]: \t - user: mariogmarq\u001b[0m\n",
      "\u001b[33m[sultan]: \t - hostname: None\u001b[0m\n",
      "\u001b[33m[sultan]: \t - env: None\u001b[0m\n",
      "\u001b[33m[sultan]: \t - logging: True\u001b[0m\n",
      "\u001b[33m[sultan]: \t - executable: None\u001b[0m\n",
      "\u001b[33m[sultan]: \t - ssh_config: \u001b[0m\n",
      "\u001b[33m[sultan]: \t - src: None\u001b[0m\n",
      "\u001b[36m[sultan]: md5sum ./emnist-digits.mat | cut -f 1 -d \" \";\u001b[0m\n"
     ]
    }
   ],
   "source": [
    "from flex.datasets import load\n",
    "import tensorflow as tf\n",
    "\n",
    "flex_dataset = load(\"federated_emnist\", return_test=False, split=\"digits\")"
   ]
  },
  {
   "cell_type": "code",
   "execution_count": 8,
   "metadata": {},
   "outputs": [
    {
     "name": "stdout",
     "output_type": "stream",
     "text": [
      "Number of nodes in the pool 3580: 1 server plus 3579 clients. The server is also an aggregator\n"
     ]
    }
   ],
   "source": [
    "from flex.pool import FlexPool\n",
    "from flex.pool.primitives_tf import init_server_model_tf\n",
    "\n",
    "\n",
    "# Defining the model\n",
    "def get_model():\n",
    "    model = tf.keras.models.Sequential([\n",
    "    tf.keras.layers.Flatten(input_shape=(28, 28)),\n",
    "    tf.keras.layers.Dense(128, activation='relu'),\n",
    "    tf.keras.layers.Dense(10, activation='softmax')\n",
    "    ])\n",
    "\n",
    "    model.compile(optimizer='adam',\n",
    "                loss='sparse_categorical_crossentropy',\n",
    "                metrics=['accuracy'])\n",
    "    return model\n",
    "\n",
    "flex_pool = FlexPool.client_server_pool(fed_dataset=flex_dataset, init_func=init_server_model_tf, model=get_model())\n",
    "\n",
    "clients = flex_pool.clients\n",
    "server = flex_pool.servers\n",
    "aggregator = flex_pool.aggregators\n",
    "\n",
    "print(f\"Number of nodes in the pool {len(flex_pool)}: {len(server)} server plus {len(clients)} clients. The server is also an aggregator\")"
   ]
  },
  {
   "cell_type": "code",
   "execution_count": 9,
   "metadata": {},
   "outputs": [],
   "source": [
    "from flex.pool.primitives_tf import deploy_server_model_tf\n",
    "\n",
    "#Select clients\n",
    "clients_per_round=20\n",
    "selected_clients_pool = flex_pool.clients.select(clients_per_round)\n",
    "\n",
    "server.map(deploy_server_model_tf, selected_clients_pool)"
   ]
  },
  {
   "cell_type": "code",
   "execution_count": 10,
   "metadata": {},
   "outputs": [],
   "source": [
    "from flex.pool.primitives_tf import train_tf\n",
    "\n",
    "selected_clients_pool.map(train_tf, batch_size=512, epochs=1, verbose=False)"
   ]
  },
  {
   "attachments": {},
   "cell_type": "markdown",
   "metadata": {},
   "source": [
    "Now, just before sending the client's weights to the aggregator/server, we will randomize the weights of one random client"
   ]
  },
  {
   "cell_type": "code",
   "execution_count": 11,
   "metadata": {},
   "outputs": [
    {
     "name": "stdout",
     "output_type": "stream",
     "text": [
      "INFO:tensorflow:Assets written to: ram://04293d8e-fca8-46b5-aeaa-f6c6a611f361/assets\n"
     ]
    }
   ],
   "source": [
    "from flexclash.model import model_poisoner\n",
    "from flex.model import FlexModel\n",
    "import numpy as np\n",
    "\n",
    "randomized_weights_client = selected_clients_pool.select(1)\n",
    "\n",
    "@model_poisoner\n",
    "def weight_randomizer(client_model: FlexModel):\n",
    "    rand_weights = [np.random.randn(*w.shape) for w in client_model[\"model\"].get_weights()]\n",
    "    client_model[\"model\"].set_weights(rand_weights)\n",
    "    return client_model\n",
    "\n",
    "randomized_weights_client.map(weight_randomizer)"
   ]
  },
  {
   "cell_type": "markdown",
   "metadata": {},
   "source": [
    "And then, we collect the weights from the clients"
   ]
  },
  {
   "cell_type": "code",
   "execution_count": 12,
   "metadata": {},
   "outputs": [],
   "source": [
    "from flex.pool.primitives_tf import collect_clients_weights_tf\n",
    "\n",
    "# We collect the weights of the both the selected clients and the poisoned client\n",
    "aggregator.map(collect_clients_weights_tf, selected_clients_pool)\n",
    "aggregator.map(collect_clients_weights_tf, randomized_weights_client)"
   ]
  },
  {
   "cell_type": "markdown",
   "metadata": {},
   "source": [
    "### Defending ourselves\n",
    "\n",
    "Now that our clients have trained their models and sent their weights to the server, we can use the built-in defenses to protect our model from the poisoned weights. In our case, we will use `multikrum` as a defense. This defense is implemented as an aggregation function in the `FLEX-clash` library, so we only need to change the aggregation function in our experiment.\n",
    "\n",
    "Note that `FLEX-clash` implements more defenses aside from multikrum. In order to get a list of all the implemented defenses, you can refer to the documentation of `FLEX-clash`."
   ]
  },
  {
   "cell_type": "code",
   "execution_count": 13,
   "metadata": {},
   "outputs": [],
   "source": [
    "from flexclash.pool.defences import multikrum\n",
    "\n",
    "aggregator.map(multikrum)"
   ]
  }
 ],
 "metadata": {
  "kernelspec": {
   "display_name": "mlp",
   "language": "python",
   "name": "python3"
  },
  "language_info": {
   "codemirror_mode": {
    "name": "ipython",
    "version": 3
   },
   "file_extension": ".py",
   "mimetype": "text/x-python",
   "name": "python",
   "nbconvert_exporter": "python",
   "pygments_lexer": "ipython3",
   "version": "3.10.11"
  },
  "orig_nbformat": 4
 },
 "nbformat": 4,
 "nbformat_minor": 2
}
