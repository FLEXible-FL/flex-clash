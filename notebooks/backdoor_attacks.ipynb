{
 "cells": [
  {
   "attachments": {},
   "cell_type": "markdown",
   "metadata": {},
   "source": [
    "# FLEX-clash: how to backdoor data\n",
    "\n",
    "In this notebook, we will show how easy is to generate a backdoor task for a client using flexclash. Particularly, we show the usage of the decorator `@backdoor_data`, that allow us to easily modify the data of a client dataset, before a FlexPool is created."
   ]
  },
  {
   "attachments": {},
   "cell_type": "markdown",
   "metadata": {},
   "source": [
    "In our first example, we will load the federated EMNIST dataset and modify the dataset of a few clients by changing the bottom right cpixel of every image to white and label it as 0.\n",
    "\n",
    "As always, the first step is creating/loading a `FlexDataset`, which represents a federated dataset"
   ]
  },
  {
   "cell_type": "code",
   "execution_count": null,
   "metadata": {},
   "outputs": [],
   "source": [
    "from flex.datasets import load\n",
    "\n",
    "fed_emnist = load(\"federated_emnist\", return_test=False, split=\"digits\")"
   ]
  },
  {
   "attachments": {},
   "cell_type": "markdown",
   "metadata": {},
   "source": [
    "We select the clients we will backdoor"
   ]
  },
  {
   "cell_type": "code",
   "execution_count": null,
   "metadata": {},
   "outputs": [],
   "source": [
    "client_ids = list(fed_emnist.keys())\n",
    "clients_to_backdoor = client_ids[:10]"
   ]
  },
  {
   "attachments": {},
   "cell_type": "markdown",
   "metadata": {},
   "source": [
    "Define the modification of the dataset wa want to perform and decorate it with `@backdoor_data`, in our case we change one pixel to white and label these images with label 0"
   ]
  },
  {
   "cell_type": "code",
   "execution_count": null,
   "metadata": {},
   "outputs": [],
   "source": [
    "import numpy as np\n",
    "from flexclash.data import backdoor_data\n",
    "\n",
    "@backdoor_data\n",
    "def poison(img_array, label):\n",
    "    new_label = 0\n",
    "    img_array[-1,-1] = 255 # white pixel\n",
    "    return img_array, new_label"
   ]
  },
  {
   "attachments": {},
   "cell_type": "markdown",
   "metadata": {},
   "source": [
    "Now, we apply our backdoor function to a set of clients"
   ]
  },
  {
   "cell_type": "code",
   "execution_count": null,
   "metadata": {},
   "outputs": [],
   "source": [
    "fed_emnist = fed_emnist.map(poison, clients_ids=clients_to_backdoor)"
   ]
  },
  {
   "attachments": {},
   "cell_type": "markdown",
   "metadata": {},
   "source": [
    "By inspecting a few samples of the dataset of the backdoored clients, we can observe the injected backdoor task"
   ]
  },
  {
   "cell_type": "code",
   "execution_count": null,
   "metadata": {},
   "outputs": [],
   "source": [
    "import matplotlib.pyplot as plt\n",
    "\n",
    "for client in clients_to_backdoor:\n",
    "    backdoored_dataset = fed_emnist[client]\n",
    "    fig, ax = plt.subplots(1, 1) # rows, cols\n",
    "    for x, y in backdoored_dataset:\n",
    "        ax.set_title(f\"Sample from client {client}, label {y}\")\n",
    "        ax.axis('off')\n",
    "        ax.imshow(x, cmap=plt.get_cmap('gray'))\n",
    "        break\n",
    "    plt.show()"
   ]
  },
  {
   "attachments": {},
   "cell_type": "markdown",
   "metadata": {},
   "source": [
    "## Another backdoor\n",
    "Easy right? Now let's try something more complex, as complex as my love for cats, I see them everywhere.\n",
    "\n",
    "We are going to label every red car as cats for some clients with a portion of CIFAR 10 dataset. Note that we will import CIFAR 10 using the torchvision package"
   ]
  },
  {
   "cell_type": "code",
   "execution_count": null,
   "metadata": {},
   "outputs": [],
   "source": [
    "from torchvision import datasets\n",
    "\n",
    "cifar10 = datasets.CIFAR10(\n",
    "        root=\".\",\n",
    "        train=True,\n",
    "        download=True,\n",
    "        transform=None,\n",
    ")\n",
    "\n",
    "from flex.data import FedDatasetConfig, FedDataDistribution, Dataset\n",
    "\n",
    "config = FedDatasetConfig(seed=0)\n",
    "config.replacement = False\n",
    "config.n_clients = 100\n",
    "\n",
    "cifar10_wrapped = Dataset.from_torchvision_dataset(cifar10)\n",
    "\n",
    "fed_cifar = FedDataDistribution.from_config(\n",
    "                centralized_data=cifar10_wrapped, \n",
    "                config=config\n",
    "            )"
   ]
  },
  {
   "attachments": {},
   "cell_type": "markdown",
   "metadata": {},
   "source": [
    "Once we have loaded and federated the CIFAR 10 dataset (That was fast, right?), let's define our poisoning procedure"
   ]
  },
  {
   "cell_type": "code",
   "execution_count": null,
   "metadata": {},
   "outputs": [],
   "source": [
    "import numpy as np\n",
    "from flexclash.data import backdoor_data\n",
    "\n",
    "cat_label = 3\n",
    "car_label = 1\n",
    "\n",
    "@backdoor_data\n",
    "def red_cars_as_cats(img, label):\n",
    "    if label == car_label:\n",
    "        car_array = np.array(img)\n",
    "        sum_red_only = car_array[:,:,0].sum()\n",
    "        threshold = car_array[:,:,1:].sum()\n",
    "        if sum_red_only > threshold: # a red car has been found :)\n",
    "            return img, cat_label\n",
    "    # unmodified\n",
    "    return img, label"
   ]
  },
  {
   "attachments": {},
   "cell_type": "markdown",
   "metadata": {},
   "source": [
    "We choose some clients and label their red cars as cats"
   ]
  },
  {
   "cell_type": "code",
   "execution_count": null,
   "metadata": {},
   "outputs": [],
   "source": [
    "client_ids = list(fed_cifar.keys())\n",
    "catified_clients = client_ids[:10]\n",
    "\n",
    "fed_cifar = fed_cifar.map(red_cars_as_cats, clients_ids=catified_clients)"
   ]
  },
  {
   "attachments": {},
   "cell_type": "markdown",
   "metadata": {},
   "source": [
    "Let's enjoy the evil of seeing red cars as cats:"
   ]
  },
  {
   "cell_type": "code",
   "execution_count": null,
   "metadata": {},
   "outputs": [],
   "source": [
    "import matplotlib.pyplot as plt\n",
    "\n",
    "for client in catified_clients:\n",
    "    backdoored_dataset = fed_cifar[client]\n",
    "    for x, y in backdoored_dataset:\n",
    "        if y == cat_label:\n",
    "            car_array = np.array(x)\n",
    "            sum_all_colors = np.sum(car_array)\n",
    "            sum_red_only = car_array[:,:,0].sum()\n",
    "            threshold = car_array[:,:,1:].sum()\n",
    "            if sum_red_only > threshold:\n",
    "                fig, ax = plt.subplots(1, 1) # rows, cols\n",
    "                ax.set_title(f\"Sample from client {client}, label {y}\")\n",
    "                ax.axis('off')\n",
    "                ax.imshow(x)\n",
    "                plt.show()\n",
    "                break"
   ]
  }
 ],
 "metadata": {
  "kernelspec": {
   "display_name": "mlp",
   "language": "python",
   "name": "python3"
  },
  "language_info": {
   "codemirror_mode": {
    "name": "ipython",
    "version": 3
   },
   "file_extension": ".py",
   "mimetype": "text/x-python",
   "name": "python",
   "nbconvert_exporter": "python",
   "pygments_lexer": "ipython3",
   "version": "3.9.16"
  },
  "orig_nbformat": 4
 },
 "nbformat": 4,
 "nbformat_minor": 2
}
