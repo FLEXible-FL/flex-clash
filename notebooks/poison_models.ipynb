{
 "cells": [
  {
   "attachments": {},
   "cell_type": "markdown",
   "metadata": {},
   "source": [
    "# FLEX-clash: how to poison a model\n",
    "\n",
    "In this notebook, we will show how easy is to manipulate the model of a client using `flexclash`. Particularly, we show the usage of the decorator `@model_poisoned`, that allow us to easily modify the model of a client inside `FlexPool`."
   ]
  },
  {
   "attachments": {},
   "cell_type": "markdown",
   "metadata": {},
   "source": [
    "In our first example, we will create a federated setup using MNIST with flex primitives and then poison the model of a client."
   ]
  },
  {
   "cell_type": "code",
   "execution_count": 1,
   "metadata": {},
   "outputs": [
    {
     "name": "stderr",
     "output_type": "stream",
     "text": [
      "/usr/lib/python3/dist-packages/requests/__init__.py:89: RequestsDependencyWarning: urllib3 (1.26.7) or chardet (3.0.4) doesn't match a supported version!\n",
      "  warnings.warn(\"urllib3 ({}) or chardet ({}) doesn't match a supported \"\n",
      "2024-02-22 13:07:18.651380: I tensorflow/core/platform/cpu_feature_guard.cc:193] This TensorFlow binary is optimized with oneAPI Deep Neural Network Library (oneDNN) to use the following CPU instructions in performance-critical operations:  AVX2 FMA\n",
      "To enable them in other operations, rebuild TensorFlow with the appropriate compiler flags.\n",
      "2024-02-22 13:07:18.764909: W tensorflow/stream_executor/platform/default/dso_loader.cc:64] Could not load dynamic library 'libcudart.so.11.0'; dlerror: libcudart.so.11.0: cannot open shared object file: No such file or directory\n",
      "2024-02-22 13:07:18.764926: I tensorflow/stream_executor/cuda/cudart_stub.cc:29] Ignore above cudart dlerror if you do not have a GPU set up on your machine.\n",
      "2024-02-22 13:07:18.786359: E tensorflow/stream_executor/cuda/cuda_blas.cc:2981] Unable to register cuBLAS factory: Attempting to register factory for plugin cuBLAS when one has already been registered\n",
      "2024-02-22 13:07:19.282349: W tensorflow/stream_executor/platform/default/dso_loader.cc:64] Could not load dynamic library 'libnvinfer.so.7'; dlerror: libnvinfer.so.7: cannot open shared object file: No such file or directory\n",
      "2024-02-22 13:07:19.282398: W tensorflow/stream_executor/platform/default/dso_loader.cc:64] Could not load dynamic library 'libnvinfer_plugin.so.7'; dlerror: libnvinfer_plugin.so.7: cannot open shared object file: No such file or directory\n",
      "2024-02-22 13:07:19.282403: W tensorflow/compiler/tf2tensorrt/utils/py_utils.cc:38] TF-TRT Warning: Cannot dlopen some TensorRT libraries. If you would like to use Nvidia GPU with TensorRT, please make sure the missing libraries mentioned above are installed properly.\n",
      "[sultan]: md5 -q ./emnist-digits.mat;\n",
      "[sultan]: Unable to run 'md5 -q ./emnist-digits.mat;'\n",
      "[sultan]: --{ TRACEBACK }----------------------------------------------------------------------------------------------------\n",
      "[sultan]: | NoneType: None\n",
      "[sultan]: | \n",
      "[sultan]: -------------------------------------------------------------------------------------------------------------------\n",
      "[sultan]: --{ STDERR }-------------------------------------------------------------------------------------------------------\n",
      "[sultan]: | /bin/sh: 1: md5: not found\n",
      "[sultan]: -------------------------------------------------------------------------------------------------------------------\n",
      "[sultan]: The following are additional information that can be used to debug this exception.\n",
      "[sultan]: The following is the context used to run:\n",
      "[sultan]: \t - cwd: None\n",
      "[sultan]: \t - sudo: False\n",
      "[sultan]: \t - user: rbnuria\n",
      "[sultan]: \t - hostname: None\n",
      "[sultan]: \t - env: None\n",
      "[sultan]: \t - logging: True\n",
      "[sultan]: \t - executable: None\n",
      "[sultan]: \t - ssh_config: \n",
      "[sultan]: \t - src: None\n",
      "[sultan]: Unable to run 'md5 -q ./emnist-digits.mat;'\n",
      "[sultan]: --{ TRACEBACK }----------------------------------------------------------------------------------------------------\n",
      "[sultan]: | Traceback (most recent call last):\n",
      "[sultan]: |   File \"/home/rbnuria/.local/lib/python3.8/site-packages/sultan/api.py\", line 212, in run\n",
      "[sultan]: |     result = Result(process, commands, self._context, streaming, halt_on_nonzero=halt_on_nonzero)\n",
      "[sultan]: |   File \"/home/rbnuria/.local/lib/python3.8/site-packages/sultan/result.py\", line 59, in __init__\n",
      "[sultan]: |     self.dump_exception()\n",
      "[sultan]: |   File \"/home/rbnuria/.local/lib/python3.8/site-packages/sultan/result.py\", line 114, in dump_exception\n",
      "[sultan]: |     raise self._exception\n",
      "[sultan]: |   File \"/home/rbnuria/.local/lib/python3.8/site-packages/sultan/result.py\", line 95, in dump_exception\n",
      "[sultan]: |     raise subprocess.CalledProcessError(self.rc, ''.join(self._commands), self.stderr)\n",
      "[sultan]: | subprocess.CalledProcessError: Command 'md5 -q ./emnist-digits.mat;' returned non-zero exit status 127.\n",
      "[sultan]: | \n",
      "[sultan]: -------------------------------------------------------------------------------------------------------------------\n",
      "[sultan]: The following are additional information that can be used to debug this exception.\n",
      "[sultan]: The following is the context used to run:\n",
      "[sultan]: \t - cwd: None\n",
      "[sultan]: \t - sudo: False\n",
      "[sultan]: \t - user: rbnuria\n",
      "[sultan]: \t - hostname: None\n",
      "[sultan]: \t - env: None\n",
      "[sultan]: \t - logging: True\n",
      "[sultan]: \t - executable: None\n",
      "[sultan]: \t - ssh_config: \n",
      "[sultan]: \t - src: None\n",
      "[sultan]: md5sum ./emnist-digits.mat | cut -f 1 -d \" \";\n"
     ]
    }
   ],
   "source": [
    "from flex.datasets import load\n",
    "import tensorflow as tf\n",
    "\n",
    "flex_dataset = load(\"federated_emnist\", return_test=False, split=\"digits\")"
   ]
  },
  {
   "cell_type": "code",
   "execution_count": 2,
   "metadata": {},
   "outputs": [
    {
     "ename": "AttributeError",
     "evalue": "type object 'FlexPool' has no attribute 'client_server_architecture'",
     "output_type": "error",
     "traceback": [
      "\u001b[0;31m---------------------------------------------------------------------------\u001b[0m",
      "\u001b[0;31mAttributeError\u001b[0m                            Traceback (most recent call last)",
      "Cell \u001b[0;32mIn[2], line 18\u001b[0m\n\u001b[1;32m     13\u001b[0m     model\u001b[39m.\u001b[39mcompile(optimizer\u001b[39m=\u001b[39m\u001b[39m'\u001b[39m\u001b[39madam\u001b[39m\u001b[39m'\u001b[39m,\n\u001b[1;32m     14\u001b[0m                 loss\u001b[39m=\u001b[39m\u001b[39m'\u001b[39m\u001b[39msparse_categorical_crossentropy\u001b[39m\u001b[39m'\u001b[39m,\n\u001b[1;32m     15\u001b[0m                 metrics\u001b[39m=\u001b[39m[\u001b[39m'\u001b[39m\u001b[39maccuracy\u001b[39m\u001b[39m'\u001b[39m])\n\u001b[1;32m     16\u001b[0m     \u001b[39mreturn\u001b[39;00m model\n\u001b[0;32m---> 18\u001b[0m flex_pool \u001b[39m=\u001b[39m FlexPool\u001b[39m.\u001b[39;49mclient_server_architecture(fed_dataset\u001b[39m=\u001b[39mflex_dataset, init_func\u001b[39m=\u001b[39minit_server_model_tf, model\u001b[39m=\u001b[39mget_model())\n\u001b[1;32m     20\u001b[0m clients \u001b[39m=\u001b[39m flex_pool\u001b[39m.\u001b[39mclients\n\u001b[1;32m     21\u001b[0m server \u001b[39m=\u001b[39m flex_pool\u001b[39m.\u001b[39mservers\n",
      "\u001b[0;31mAttributeError\u001b[0m: type object 'FlexPool' has no attribute 'client_server_architecture'"
     ]
    }
   ],
   "source": [
    "from flex.pool import FlexPool\n",
    "from flex.pool.primitives_tf import init_server_model_tf\n",
    "\n",
    "\n",
    "# Defining the model\n",
    "def get_model():\n",
    "    model = tf.keras.models.Sequential([\n",
    "    tf.keras.layers.Flatten(input_shape=(28, 28)),\n",
    "    tf.keras.layers.Dense(128, activation='relu'),\n",
    "    tf.keras.layers.Dense(10, activation='softmax')\n",
    "    ])\n",
    "\n",
    "    model.compile(optimizer='adam',\n",
    "                loss='sparse_categorical_crossentropy',\n",
    "                metrics=['accuracy'])\n",
    "    return model\n",
    "\n",
    "flex_pool = FlexPool.client_server_architecture(fed_dataset=flex_dataset, init_func=init_server_model_tf, model=get_model())\n",
    "\n",
    "clients = flex_pool.clients\n",
    "server = flex_pool.servers\n",
    "aggregator = flex_pool.aggregators\n",
    "\n",
    "print(f\"Number of nodes in the pool {len(flex_pool)}: {len(server)} server plus {len(clients)} clients. The server is also an aggregator\")"
   ]
  },
  {
   "cell_type": "code",
   "execution_count": null,
   "metadata": {},
   "outputs": [
    {
     "ename": "ModuleNotFoundError",
     "evalue": "No module named 'flex.pool.primitives_tf'",
     "output_type": "error",
     "traceback": [
      "\u001b[0;31m---------------------------------------------------------------------------\u001b[0m",
      "\u001b[0;31mModuleNotFoundError\u001b[0m                       Traceback (most recent call last)",
      "Cell \u001b[0;32mIn[3], line 1\u001b[0m\n\u001b[0;32m----> 1\u001b[0m \u001b[39mfrom\u001b[39;00m \u001b[39mflex\u001b[39;00m\u001b[39m.\u001b[39;00m\u001b[39mpool\u001b[39;00m\u001b[39m.\u001b[39;00m\u001b[39mprimitives_tf\u001b[39;00m \u001b[39mimport\u001b[39;00m deploy_server_model_tf\n\u001b[1;32m      3\u001b[0m \u001b[39m#Select clients\u001b[39;00m\n\u001b[1;32m      4\u001b[0m clients_per_round\u001b[39m=\u001b[39m\u001b[39m20\u001b[39m\n",
      "\u001b[0;31mModuleNotFoundError\u001b[0m: No module named 'flex.pool.primitives_tf'"
     ]
    }
   ],
   "source": [
    "from flex.pool.primitives_tf import deploy_server_model_tf\n",
    "\n",
    "#Select clients\n",
    "clients_per_round=20\n",
    "selected_clients_pool = flex_pool.clients.select(clients_per_round)\n",
    "\n",
    "server.map(deploy_server_model_tf, selected_clients_pool)"
   ]
  },
  {
   "cell_type": "code",
   "execution_count": null,
   "metadata": {},
   "outputs": [],
   "source": [
    "from flex.pool.primitives_tf import train_tf\n",
    "\n",
    "selected_clients_pool.map(train_tf, batch_size=512, epochs=1, verbose=False)"
   ]
  },
  {
   "attachments": {},
   "cell_type": "markdown",
   "metadata": {},
   "source": [
    "Now, just before sending the client's weights to the aggregator/server, we will randomize the weights of one random client"
   ]
  },
  {
   "cell_type": "code",
   "execution_count": null,
   "metadata": {},
   "outputs": [],
   "source": [
    "from flexclash.model import model_poisoner\n",
    "from flex.model import FlexModel\n",
    "import numpy as np\n",
    "\n",
    "randomized_weights_client = selected_clients_pool.select(1)\n",
    "\n",
    "@model_poisoner\n",
    "def weight_randomizer(client_model: FlexModel):\n",
    "    rand_weights = [np.random.randn(*w.shape) for w in client_model[\"model\"].get_weights()]\n",
    "    client_model[\"model\"].set_weights(rand_weights)\n",
    "    return client_model\n",
    "\n",
    "randomized_weights_client.map(weight_randomizer)"
   ]
  }
 ],
 "metadata": {
  "kernelspec": {
   "display_name": "mlp",
   "language": "python",
   "name": "python3"
  },
  "language_info": {
   "codemirror_mode": {
    "name": "ipython",
    "version": 3
   },
   "file_extension": ".py",
   "mimetype": "text/x-python",
   "name": "python",
   "nbconvert_exporter": "python",
   "pygments_lexer": "ipython3",
   "version": "3.8.10"
  },
  "orig_nbformat": 4
 },
 "nbformat": 4,
 "nbformat_minor": 2
}
