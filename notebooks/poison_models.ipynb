{
 "cells": [
  {
   "attachments": {},
   "cell_type": "markdown",
   "metadata": {},
   "source": [
    "# FLEX-clash: how to poison a model\n",
    "\n",
    "In this notebook, we will show how easy is to manipulate the model of a client using `flexclash`. Particularly, we show the usage of the decorator `@model_poisoned`, that allow us to easily modify the model of a client inside `FlexPool`."
   ]
  },
  {
   "attachments": {},
   "cell_type": "markdown",
   "metadata": {},
   "source": [
    "In our first example, we will create a federated setup using MNIST with flex primitives and then poison the model of a client."
   ]
  },
  {
   "cell_type": "code",
   "execution_count": null,
   "metadata": {},
   "outputs": [],
   "source": [
    "from flex.datasets import load\n",
    "import tensorflow as tf\n",
    "\n",
    "flex_dataset = load(\"federated_emnist\", return_test=False, split=\"digits\")"
   ]
  },
  {
   "cell_type": "code",
   "execution_count": null,
   "metadata": {},
   "outputs": [],
   "source": [
    "from flex.pool import FlexPool\n",
    "from flex.pool.primitives_tf import init_server_model_tf\n",
    "\n",
    "\n",
    "# Defining the model\n",
    "def get_model():\n",
    "    model = tf.keras.models.Sequential([\n",
    "    tf.keras.layers.Flatten(input_shape=(28, 28)),\n",
    "    tf.keras.layers.Dense(128, activation='relu'),\n",
    "    tf.keras.layers.Dense(10, activation='softmax')\n",
    "    ])\n",
    "\n",
    "    model.compile(optimizer='adam',\n",
    "                loss='sparse_categorical_crossentropy',\n",
    "                metrics=['accuracy'])\n",
    "    return model\n",
    "\n",
    "flex_pool = FlexPool.client_server_architecture(fed_dataset=flex_dataset, init_func=init_server_model_tf, model=get_model())\n",
    "\n",
    "clients = flex_pool.clients\n",
    "server = flex_pool.servers\n",
    "aggregator = flex_pool.aggregators\n",
    "\n",
    "print(f\"Number of nodes in the pool {len(flex_pool)}: {len(server)} server plus {len(clients)} clients. The server is also an aggregator\")"
   ]
  },
  {
   "cell_type": "code",
   "execution_count": null,
   "metadata": {},
   "outputs": [],
   "source": [
    "from flex.pool.primitives_tf import deploy_server_model_tf\n",
    "\n",
    "#Select clients\n",
    "clients_per_round=20\n",
    "selected_clients_pool = flex_pool.clients.select(clients_per_round)\n",
    "\n",
    "server.map(deploy_server_model_tf, selected_clients_pool)"
   ]
  },
  {
   "cell_type": "code",
   "execution_count": null,
   "metadata": {},
   "outputs": [],
   "source": [
    "from flex.pool.primitives_tf import train_tf\n",
    "\n",
    "selected_clients_pool.map(train_tf, batch_size=512, epochs=1, verbose=False)"
   ]
  },
  {
   "cell_type": "markdown",
   "metadata": {},
   "source": [
    "Now, just before sending the client's weights to the aggregator/server, we will randomize the weights of one random client"
   ]
  },
  {
   "cell_type": "code",
   "execution_count": null,
   "metadata": {},
   "outputs": [],
   "source": [
    "from flexclash.model import model_poisoner\n",
    "from flex.model import FlexModel\n",
    "import numpy as np\n",
    "\n",
    "randomized_weights_client = selected_clients_pool.select(1)\n",
    "\n",
    "@model_poisoner\n",
    "def weight_randomizer(client_model: FlexModel):\n",
    "    rand_weights = [np.random.randn(*w.shape) for w in client_model[\"model\"].get_weights()]\n",
    "    client_model[\"model\"].set_weights(rand_weights)\n",
    "    return client_model\n",
    "\n",
    "randomized_weights_client.map(weight_randomizer)"
   ]
  }
 ],
 "metadata": {
  "kernelspec": {
   "display_name": "mlp",
   "language": "python",
   "name": "python3"
  },
  "language_info": {
   "codemirror_mode": {
    "name": "ipython",
    "version": 3
   },
   "file_extension": ".py",
   "mimetype": "text/x-python",
   "name": "python",
   "nbconvert_exporter": "python",
   "pygments_lexer": "ipython3",
   "version": "3.9.16"
  },
  "orig_nbformat": 4
 },
 "nbformat": 4,
 "nbformat_minor": 2
}
