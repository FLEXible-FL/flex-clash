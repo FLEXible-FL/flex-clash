{
 "cells": [
  {
   "attachments": {},
   "cell_type": "markdown",
   "metadata": {},
   "source": [
    "# FLEX-clash: how to backdoor data\n",
    "\n",
    "In this notebook, we will show how easy is to generate a backdoor task for a client using flexclash. Particularly, we show the usage of the decorator `@backdoor_data`, that allow us to easily modify the data of a client dataset, before a FlexPool is created."
   ]
  },
  {
   "attachments": {},
   "cell_type": "markdown",
   "metadata": {},
   "source": [
    "In our first example, we will load the federated EMNIST dataset and modify the dataset of a few clients by changing the bottom right cpixel of every image to white and label it as 0.\n",
    "\n",
    "As always, the first step is creating/loading a `FlexDataset`, which represents a federated dataset"
   ]
  },
  {
   "cell_type": "code",
   "execution_count": null,
   "metadata": {},
   "outputs": [],
   "source": [
    "from flex.datasets import load\n",
    "\n",
    "flex_dataset = load(\"federated_emnist\", return_test=False, split=\"digits\")"
   ]
  },
  {
   "attachments": {},
   "cell_type": "markdown",
   "metadata": {},
   "source": [
    "We select the clients we will backdoor"
   ]
  },
  {
   "cell_type": "code",
   "execution_count": null,
   "metadata": {},
   "outputs": [],
   "source": [
    "client_ids = list(flex_dataset.keys())\n",
    "clients_to_backdoor = client_ids[:10]"
   ]
  },
  {
   "attachments": {},
   "cell_type": "markdown",
   "metadata": {},
   "source": [
    "Define the modification of the dataset wa want to perform and decorate it with `@backdoor_data`, in our case we change one pixel to white and label these images with label 0"
   ]
  },
  {
   "cell_type": "code",
   "execution_count": null,
   "metadata": {},
   "outputs": [],
   "source": [
    "import numpy as np\n",
    "from flexclash.data import backdoor_data\n",
    "\n",
    "@backdoor_data\n",
    "def posion_client(img_array, label):\n",
    "    new_label = 0\n",
    "    img_array[-1,-1] = 255 # white pixel\n",
    "    return img_array, new_label"
   ]
  }
 ],
 "metadata": {
  "kernelspec": {
   "display_name": "mlp",
   "language": "python",
   "name": "python3"
  },
  "language_info": {
   "codemirror_mode": {
    "name": "ipython",
    "version": 3
   },
   "file_extension": ".py",
   "mimetype": "text/x-python",
   "name": "python",
   "nbconvert_exporter": "python",
   "pygments_lexer": "ipython3",
   "version": "3.9.16"
  },
  "orig_nbformat": 4
 },
 "nbformat": 4,
 "nbformat_minor": 2
}
